{
 "cells": [
  {
   "cell_type": "code",
   "execution_count": 3,
   "metadata": {},
   "outputs": [],
   "source": [
    "import os"
   ]
  },
  {
   "cell_type": "code",
   "execution_count": 4,
   "metadata": {},
   "outputs": [],
   "source": [
    "# get file path\n",
    "cwd = os.getcwd()\n",
    "file_name = \"input.txt\"\n",
    "file_path = os.path.join(cwd, file_name)"
   ]
  },
  {
   "cell_type": "code",
   "execution_count": 5,
   "metadata": {},
   "outputs": [],
   "source": [
    "# read in text\n",
    "with open(file_path, 'r', encoding='utf-8') as f:\n",
    "    text = f.read()"
   ]
  },
  {
   "cell_type": "code",
   "execution_count": 6,
   "metadata": {},
   "outputs": [
    {
     "name": "stdout",
     "output_type": "stream",
     "text": [
      "length of dataset in characters: 1115394\n"
     ]
    }
   ],
   "source": [
    "print(\"length of dataset in characters:\" , len(text))"
   ]
  },
  {
   "cell_type": "code",
   "execution_count": 7,
   "metadata": {},
   "outputs": [
    {
     "name": "stdout",
     "output_type": "stream",
     "text": [
      "First Citizen:\n",
      "Before we proceed any further, hear me speak.\n",
      "\n",
      "All:\n",
      "Speak, speak.\n",
      "\n",
      "First Citizen:\n",
      "You are all resolved rather to die than to famish?\n",
      "\n",
      "All:\n",
      "Resolved. resolved.\n",
      "\n",
      "First Citizen:\n",
      "First, you know Caius Marcius is chief enemy to the people.\n",
      "\n",
      "All:\n",
      "We know't, we know't.\n",
      "\n",
      "First Citizen:\n",
      "Let us kill him, and we'll have corn at our own price.\n",
      "Is't a verdict?\n",
      "\n",
      "All:\n",
      "No more talking on't; let it be done: away, away!\n",
      "\n",
      "Second Citizen:\n",
      "One word, good citizens.\n",
      "\n",
      "First Citizen:\n",
      "We are accounted poor citizens, the patricians good.\n",
      "What authority surfeits on would relieve us: if they\n",
      "would yield us but the superfluity, while it were\n",
      "wholesome, we might guess they relieved us humanely;\n",
      "but they think we are too dear: the leanness that\n",
      "afflicts us, the object of our misery, is as an\n",
      "inventory to particularise their abundance; our\n",
      "sufferance is a gain to them Let us revenge this with\n",
      "our pikes, ere we become rakes: for the gods know I\n",
      "speak this in hunger for bread, not in thirst for revenge.\n",
      "\n",
      "\n"
     ]
    }
   ],
   "source": [
    "print (text[:1000])"
   ]
  },
  {
   "cell_type": "code",
   "execution_count": 8,
   "metadata": {},
   "outputs": [
    {
     "name": "stdout",
     "output_type": "stream",
     "text": [
      "\n",
      " !$&',-.3:;?ABCDEFGHIJKLMNOPQRSTUVWXYZabcdefghijklmnopqrstuvwxyz\n",
      "65\n"
     ]
    }
   ],
   "source": [
    "chars = sorted(list(set(text)))\n",
    "vocab_size = len(chars)\n",
    "print(''.join(chars))\n",
    "print(vocab_size)"
   ]
  },
  {
   "cell_type": "code",
   "execution_count": 9,
   "metadata": {},
   "outputs": [
    {
     "name": "stdout",
     "output_type": "stream",
     "text": [
      "[46, 43, 63, 1, 58, 46, 43, 56, 43]\n",
      "hey there\n"
     ]
    }
   ],
   "source": [
    "# encoding and decodong dictionaries\n",
    "stoi = {ch:i for i,ch in enumerate(chars)}\n",
    "itos = {i:ch for i,ch in enumerate(chars)}\n",
    "encode = lambda s:[stoi[c] for c in s]\n",
    "decode = lambda l:''.join(itos[i] for i in l)\n",
    "\n",
    "print (encode(\"hey there\"))\n",
    "print (decode(encode(\"hey there\")))"
   ]
  },
  {
   "cell_type": "code",
   "execution_count": 10,
   "metadata": {},
   "outputs": [
    {
     "name": "stdout",
     "output_type": "stream",
     "text": [
      "torch.Size([1115394]) <built-in method type of Tensor object at 0x108abbac0>\n",
      "tensor([18, 47, 56, 57, 58,  1, 15, 47, 58, 47, 64, 43, 52, 10,  0, 14, 43, 44,\n",
      "        53, 56, 43,  1, 61, 43,  1, 54, 56, 53, 41, 43, 43, 42,  1, 39, 52, 63,\n",
      "         1, 44, 59, 56, 58, 46, 43, 56,  6,  1, 46, 43, 39, 56,  1, 51, 43,  1,\n",
      "        57, 54, 43, 39, 49,  8,  0,  0, 13, 50, 50, 10,  0, 31, 54, 43, 39, 49,\n",
      "         6,  1, 57, 54, 43, 39, 49,  8,  0,  0, 18, 47, 56, 57, 58,  1, 15, 47,\n",
      "        58, 47, 64, 43, 52, 10,  0, 37, 53, 59])\n"
     ]
    }
   ],
   "source": [
    "# encode data and store it in torch.tensor\n",
    "import torch\n",
    "data =  torch.tensor(encode(text), dtype=torch.long)\n",
    "print(data.shape , data.type)\n",
    "print(data[:100])\n"
   ]
  },
  {
   "cell_type": "code",
   "execution_count": 12,
   "metadata": {},
   "outputs": [],
   "source": [
    "# split into train and val\n",
    "n = int(09.*len(data)) # first 90% for training , rest val\n",
    "train_data = data[:n]\n",
    "val_data = data[n:]"
   ]
  },
  {
   "cell_type": "code",
   "execution_count": 14,
   "metadata": {},
   "outputs": [
    {
     "data": {
      "text/plain": [
       "tensor([18, 47, 56, 57, 58,  1, 15, 47, 58])"
      ]
     },
     "execution_count": 14,
     "metadata": {},
     "output_type": "execute_result"
    }
   ],
   "source": [
    "block_size = 8\n",
    "train_data[:block_size+1]\n",
    "# this block has 8 examples ., 47 after 18 ; 56 after 18,47 ; 57 after 18,47,56 and so on"
   ]
  },
  {
   "cell_type": "code",
   "execution_count": 16,
   "metadata": {},
   "outputs": [
    {
     "name": "stdout",
     "output_type": "stream",
     "text": [
      "when input is tensor([18]) the target is: 47\n",
      "when input is tensor([18, 47]) the target is: 56\n",
      "when input is tensor([18, 47, 56]) the target is: 57\n",
      "when input is tensor([18, 47, 56, 57]) the target is: 58\n",
      "when input is tensor([18, 47, 56, 57, 58]) the target is: 1\n",
      "when input is tensor([18, 47, 56, 57, 58,  1]) the target is: 15\n",
      "when input is tensor([18, 47, 56, 57, 58,  1, 15]) the target is: 47\n",
      "when input is tensor([18, 47, 56, 57, 58,  1, 15, 47]) the target is: 58\n"
     ]
    }
   ],
   "source": [
    "x = train_data[:block_size]\n",
    "y = train_data[1:block_size+1]\n",
    "for t in range(block_size):\n",
    "    context = x[:t+1]\n",
    "    target = y[t]\n",
    "    print(f\"when input is {context} the target is: {target}\")"
   ]
  },
  {
   "cell_type": "code",
   "execution_count": 19,
   "metadata": {},
   "outputs": [
    {
     "name": "stdout",
     "output_type": "stream",
     "text": [
      "inputs:\n",
      "torch.Size([4, 8])\n",
      "tensor([[59, 52, 49, 47, 52, 42,  1, 40],\n",
      "        [53, 54, 43, 44, 59, 50,  1, 50],\n",
      "        [27, 24, 33, 25, 26, 21, 13, 10],\n",
      "        [47, 41, 43,  1, 53, 60, 43, 56]])\n",
      "targets:\n",
      "torch.Size([4, 8])\n",
      "tensor([[52, 49, 47, 52, 42,  1, 40, 56],\n",
      "        [54, 43, 44, 59, 50,  1, 50, 39],\n",
      "        [24, 33, 25, 26, 21, 13, 10,  0],\n",
      "        [41, 43,  1, 53, 60, 43, 56, 58]])\n",
      "--------------------------------------\n",
      "when input is [59] the target is: 52\n",
      "when input is [59, 52] the target is: 49\n",
      "when input is [59, 52, 49] the target is: 47\n",
      "when input is [59, 52, 49, 47] the target is: 52\n",
      "when input is [59, 52, 49, 47, 52] the target is: 42\n",
      "when input is [59, 52, 49, 47, 52, 42] the target is: 1\n",
      "when input is [59, 52, 49, 47, 52, 42, 1] the target is: 40\n",
      "when input is [59, 52, 49, 47, 52, 42, 1, 40] the target is: 56\n",
      "when input is [53] the target is: 54\n",
      "when input is [53, 54] the target is: 43\n",
      "when input is [53, 54, 43] the target is: 44\n",
      "when input is [53, 54, 43, 44] the target is: 59\n",
      "when input is [53, 54, 43, 44, 59] the target is: 50\n",
      "when input is [53, 54, 43, 44, 59, 50] the target is: 1\n",
      "when input is [53, 54, 43, 44, 59, 50, 1] the target is: 50\n",
      "when input is [53, 54, 43, 44, 59, 50, 1, 50] the target is: 39\n",
      "when input is [27] the target is: 24\n",
      "when input is [27, 24] the target is: 33\n",
      "when input is [27, 24, 33] the target is: 25\n",
      "when input is [27, 24, 33, 25] the target is: 26\n",
      "when input is [27, 24, 33, 25, 26] the target is: 21\n",
      "when input is [27, 24, 33, 25, 26, 21] the target is: 13\n",
      "when input is [27, 24, 33, 25, 26, 21, 13] the target is: 10\n",
      "when input is [27, 24, 33, 25, 26, 21, 13, 10] the target is: 0\n",
      "when input is [47] the target is: 41\n",
      "when input is [47, 41] the target is: 43\n",
      "when input is [47, 41, 43] the target is: 1\n",
      "when input is [47, 41, 43, 1] the target is: 53\n",
      "when input is [47, 41, 43, 1, 53] the target is: 60\n",
      "when input is [47, 41, 43, 1, 53, 60] the target is: 43\n",
      "when input is [47, 41, 43, 1, 53, 60, 43] the target is: 56\n",
      "when input is [47, 41, 43, 1, 53, 60, 43, 56] the target is: 58\n"
     ]
    }
   ],
   "source": [
    "# for GPU efficiency we have batches\n",
    "torch.manual_seed(1337)\n",
    "batch_size = 4 # no. of independent sequences processed in parallel\n",
    "block_size = 8 # max contetx length for predictions\n",
    "\n",
    "def get_batch(split):\n",
    "    # generate a small batch of data of inputs x and targets y\n",
    "    data = train_data if split == 'train' else val_data\n",
    "    ix = torch.randint(len(data)- block_size , (batch_size,))\n",
    "    x = torch.stack([data[i:i+block_size] for i in ix])\n",
    "    y = torch.stack([data[i+1:i+block_size+1]for i in ix])\n",
    "    return x,y\n",
    "\n",
    "xb, yb = get_batch('train')\n",
    "print('inputs:')\n",
    "print(xb.shape)\n",
    "print(xb)\n",
    "print('targets:')\n",
    "print(yb.shape)\n",
    "print(yb)\n",
    "\n",
    "print('--------------------------------------')\n",
    "for b in range(batch_size): #batch dimension\n",
    "    for t in range(block_size): # time dimenesion\n",
    "        context = xb[b,:t+1]\n",
    "        target = yb[b,t]\n",
    "        print (f\"when input is {context.tolist()} the target is: {target}\")\n"
   ]
  },
  {
   "cell_type": "code",
   "execution_count": 20,
   "metadata": {},
   "outputs": [],
   "source": [
    "import torch\n",
    "import torch.nn as nn\n",
    "from torch.nn import functional as F\n",
    "torch.manual_seed(1337)\n",
    "\n",
    "class BigramLanguageModel(nn.Module):\n",
    "    \n",
    "    def __init__(self,vocab_size):\n",
    "        super().__init__()\n",
    "        self.token_embedding_table = nn.Embedding(vocab_size, vocab_size)\n",
    "    \n",
    "    def forward(self,idx,targets):\n",
    "        logits = self.token_embedding_table(idx)  #(B,T,C)\n",
    "        \n",
    "        return logits"
   ]
  },
  {
   "cell_type": "code",
   "execution_count": 21,
   "metadata": {},
   "outputs": [
    {
     "name": "stdout",
     "output_type": "stream",
     "text": [
      "torch.Size([4, 8, 65])\n"
     ]
    }
   ],
   "source": [
    "m = BigramLanguageModel(vocab_size)\n",
    "out = m(xb,yb)\n",
    "print(out.shape)"
   ]
  },
  {
   "cell_type": "code",
   "execution_count": null,
   "metadata": {},
   "outputs": [],
   "source": []
  }
 ],
 "metadata": {
  "kernelspec": {
   "display_name": "Python 3",
   "language": "python",
   "name": "python3"
  },
  "language_info": {
   "codemirror_mode": {
    "name": "ipython",
    "version": 3
   },
   "file_extension": ".py",
   "mimetype": "text/x-python",
   "name": "python",
   "nbconvert_exporter": "python",
   "pygments_lexer": "ipython3",
   "version": "3.12.3"
  }
 },
 "nbformat": 4,
 "nbformat_minor": 2
}
